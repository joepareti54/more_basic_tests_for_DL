{
 "cells": [
  {
   "cell_type": "code",
   "execution_count": 1,
   "metadata": {
    "slideshow": {
     "slide_type": "slide"
    }
   },
   "outputs": [],
   "source": [
    "# joepareti54@gmail.com  May 13 2022\n",
    "#\n",
    "# this model implements one more linear layer than test_pytorch_bin_class.ipynb\n",
    "# however the performance is approximately the same\n",
    "#\n",
    "# binary classification : cancer, no cancer \n",
    "# using a dataset in scikit learn\n",
    "#\n",
    "# the model class definition is similar to the linear regression\n",
    "# but the last layer is a sigmoid function\n"
   ]
  },
  {
   "cell_type": "code",
   "execution_count": 2,
   "metadata": {
    "slideshow": {
     "slide_type": "subslide"
    }
   },
   "outputs": [],
   "source": [
    "import numpy as np\n",
    "import torch\n",
    "from torch import nn, optim\n",
    "from sklearn import datasets\n",
    "from sklearn.preprocessing import StandardScaler\n",
    "from sklearn.model_selection import train_test_split\n",
    "#"
   ]
  },
  {
   "cell_type": "code",
   "execution_count": 3,
   "metadata": {
    "slideshow": {
     "slide_type": "subslide"
    }
   },
   "outputs": [],
   "source": [
    "bc = datasets.load_breast_cancer()\n",
    "X, y = bc.data, bc.target"
   ]
  },
  {
   "cell_type": "code",
   "execution_count": 4,
   "metadata": {
    "slideshow": {
     "slide_type": "subslide"
    }
   },
   "outputs": [
    {
     "name": "stdout",
     "output_type": "stream",
     "text": [
      "input shape  (569, 30)\n",
      "label shape  (569,)\n",
      "n_samples  569\n",
      "n_features  30\n"
     ]
    }
   ],
   "source": [
    "print('input shape ',X.shape)\n",
    "print('label shape ',y.shape)\n",
    "n_samples = X.shape[0]\n",
    "n_features = X.shape[1]\n",
    "print('n_samples ', n_samples)\n",
    "print('n_features ', n_features)"
   ]
  },
  {
   "cell_type": "code",
   "execution_count": 5,
   "metadata": {
    "slideshow": {
     "slide_type": "slide"
    }
   },
   "outputs": [
    {
     "name": "stdout",
     "output_type": "stream",
     "text": [
      "input shape trn  (455, 30)\n",
      "input shape tst  (114, 30)\n"
     ]
    }
   ],
   "source": [
    "X_train, X_test, y_train, y_test = train_test_split(X, y, test_size=0.2, random_state=42)\n",
    "print('input shape trn ',X_train.shape)\n",
    "print('input shape tst ',X_test.shape)"
   ]
  },
  {
   "cell_type": "code",
   "execution_count": 6,
   "metadata": {},
   "outputs": [
    {
     "data": {
      "text/plain": [
       "numpy.ndarray"
      ]
     },
     "execution_count": 6,
     "metadata": {},
     "output_type": "execute_result"
    }
   ],
   "source": [
    "type(X_train)\n",
    "type(X_test)\n",
    "type(y_train)\n",
    "type(y_test)"
   ]
  },
  {
   "cell_type": "code",
   "execution_count": 7,
   "metadata": {},
   "outputs": [],
   "source": [
    "# apply scaling\n",
    "scaler = StandardScaler().fit(X_train)\n",
    "X_TRAIN = scaler.transform(X_train)\n",
    "X_TEST  = scaler.transform(X_test)"
   ]
  },
  {
   "cell_type": "code",
   "execution_count": 8,
   "metadata": {},
   "outputs": [
    {
     "name": "stdout",
     "output_type": "stream",
     "text": [
      "shape of train tensor  torch.Size([455, 30])\n",
      "shape of test tensor  torch.Size([114, 30])\n"
     ]
    }
   ],
   "source": [
    "#convert data to pytorch tensors\n",
    "#XX_train = torch.from_numpy(X_TRAIN, dtype=np.float32)\n",
    "XX_train = torch.from_numpy(X_TRAIN.astype(np.float32))\n",
    "XX_test  = torch.from_numpy(X_TEST.astype(np.float32))\n",
    "print('shape of train tensor ',XX_train.shape)\n",
    "print('shape of test tensor ',XX_test.shape)\n",
    "YY_train = torch.from_numpy(y_train.astype(np.float32))\n",
    "YY_test = torch.from_numpy(y_test.astype(np.float32))"
   ]
  },
  {
   "cell_type": "code",
   "execution_count": 9,
   "metadata": {},
   "outputs": [],
   "source": [
    "# in order to understand what input size and output size need to be for this case:\n",
    "# https://stackoverflow.com/questions/54916135/what-is-the-class-definition-of-nn-linear-in-pytorch\n",
    "# \n",
    "class BinaryClassification(nn.Module):\n",
    "    def __init__(self, input_size, output_size):\n",
    "        super().__init__()\n",
    "        self.linear = nn.Linear(input_size, output_size)\n",
    "        self.fc1 = nn.Linear(input_size, 15)\n",
    "        self.fc2 = nn.Linear(15, output_size)\n",
    "#        self.fc3 = nn.Linear(3,output_size)\n",
    "    def forward(self, x):\n",
    "        x = self.fc1(x)\n",
    "        x = torch.relu(x)\n",
    "        x = self.fc2(x)\n",
    "        \n",
    "        \n",
    "        y_pred = torch.sigmoid(x)\n",
    "        return y_pred\n",
    "        "
   ]
  },
  {
   "cell_type": "code",
   "execution_count": 10,
   "metadata": {},
   "outputs": [],
   "source": [
    "model = BinaryClassification(XX_train.shape[1], 1)\n",
    "loss = nn.MSELoss()\n",
    "optimizer = optim.Adam(model.parameters(), lr=0.001)\n",
    "epochs = 100000\n",
    "epochs =  50000"
   ]
  },
  {
   "cell_type": "code",
   "execution_count": 11,
   "metadata": {},
   "outputs": [],
   "source": [
    "yy_train = YY_train.view(-1,1)\n",
    "yy_test  = YY_test.view(-1, 1)"
   ]
  },
  {
   "cell_type": "code",
   "execution_count": 12,
   "metadata": {},
   "outputs": [
    {
     "name": "stdout",
     "output_type": "stream",
     "text": [
      "epoch 0 loss 0.30074024200439453\n",
      "epoch 10000 loss 0.0022003361955285072\n",
      "epoch 20000 loss 0.0021978130098432302\n",
      "epoch 30000 loss 0.002197802299633622\n",
      "epoch 40000 loss 0.002197802299633622\n"
     ]
    }
   ],
   "source": [
    "for i in range(epochs):\n",
    "    optimizer.zero_grad()\n",
    "    output = model(XX_train)\n",
    "    LOSS = loss(output, yy_train)\n",
    "#    print(LOSS)\n",
    "    LOSS.backward()\n",
    "    optimizer.step()\n",
    "    if i % 10000 == 0:\n",
    "        print('epoch', i, 'loss', LOSS.item())"
   ]
  },
  {
   "cell_type": "code",
   "execution_count": 13,
   "metadata": {},
   "outputs": [
    {
     "name": "stdout",
     "output_type": "stream",
     "text": [
      "0.9999752044677734 1.0\n",
      "5.779271186777335e-20 0.0\n",
      "3.831067339993104e-15 0.0\n",
      "1.0 1.0\n",
      "1.0 1.0\n",
      "0.0 0.0\n",
      "1.3774996460774802e-31 0.0\n",
      "0.06343021988868713 0.0\n",
      "0.9994199275970459 1.0\n",
      "1.0 1.0\n",
      "0.9833664894104004 1.0\n",
      "2.0074070405939892e-08 0.0\n",
      "1.0 1.0\n",
      "1.1194713211981622e-10 0.0\n",
      "1.0 1.0\n",
      "1.44159098451181e-19 0.0\n",
      "1.0 1.0\n",
      "1.0 1.0\n",
      "1.0 1.0\n",
      "4.898788750529485e-25 0.0\n",
      "0.999998927116394 0.0\n",
      "1.0 1.0\n",
      "6.514632883638904e-36 0.0\n",
      "1.0 1.0\n",
      "1.0 1.0\n",
      "1.0 1.0\n",
      "1.0 1.0\n",
      "1.0 1.0\n",
      "1.0 1.0\n",
      "7.418999877653011e-21 0.0\n",
      "1.0 1.0\n",
      "1.0 1.0\n",
      "1.0 1.0\n",
      "1.0 1.0\n",
      "1.0 1.0\n",
      "1.0 1.0\n",
      "1.3597920012209386e-10 0.0\n",
      "1.0 1.0\n",
      "1.0700077006675126e-21 0.0\n",
      "1.0 1.0\n",
      "1.0 1.0\n",
      "1.573284496981211e-18 0.0\n",
      "1.0 1.0\n",
      "1.0 1.0\n",
      "1.0 1.0\n",
      "0.0014793869340792298 1.0\n",
      "1.0 1.0\n",
      "1.0 1.0\n",
      "0.9629786610603333 1.0\n",
      "1.0 1.0\n"
     ]
    }
   ],
   "source": [
    "#test model\n",
    "y_hat = model(XX_test)\n",
    "for i in range(50):\n",
    "    print(y_hat[i].item(),yy_test[i].item()  )"
   ]
  },
  {
   "cell_type": "code",
   "execution_count": 14,
   "metadata": {},
   "outputs": [
    {
     "name": "stdout",
     "output_type": "stream",
     "text": [
      "tensor(0.9649)\n"
     ]
    }
   ],
   "source": [
    "# compute accuracy\n",
    "with torch.no_grad():\n",
    "    \n",
    "    a = y_hat.round()\n",
    "    A = (a == yy_test)\n",
    "    acc = A.sum() / float(YY_test.shape[0])\n",
    "    print(acc)\n"
   ]
  },
  {
   "cell_type": "code",
   "execution_count": null,
   "metadata": {},
   "outputs": [],
   "source": []
  }
 ],
 "metadata": {
  "celltoolbar": "Slideshow",
  "kernelspec": {
   "display_name": "Python 3",
   "language": "python",
   "name": "python3"
  },
  "language_info": {
   "codemirror_mode": {
    "name": "ipython",
    "version": 3
   },
   "file_extension": ".py",
   "mimetype": "text/x-python",
   "name": "python",
   "nbconvert_exporter": "python",
   "pygments_lexer": "ipython3",
   "version": "3.7.6"
  }
 },
 "nbformat": 4,
 "nbformat_minor": 4
}
