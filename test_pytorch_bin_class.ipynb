{
 "cells": [
  {
   "cell_type": "code",
   "execution_count": 1,
   "metadata": {},
   "outputs": [],
   "source": [
    "# joepareti54@gmail.com  May 3 2022\n",
    "# binary classification : cancer, no cancer \n",
    "# using a dataset in scikit learn\n",
    "#\n",
    "# the model class definition is similar to the linear regression\n",
    "# but the last layer is a sigmoid function"
   ]
  },
  {
   "cell_type": "code",
   "execution_count": 2,
   "metadata": {},
   "outputs": [],
   "source": [
    "import numpy as np\n",
    "import torch\n",
    "from torch import nn, optim\n",
    "from sklearn import datasets\n",
    "from sklearn.preprocessing import StandardScaler\n",
    "from sklearn.model_selection import train_test_split\n",
    "#"
   ]
  },
  {
   "cell_type": "code",
   "execution_count": 3,
   "metadata": {},
   "outputs": [],
   "source": [
    "bc = datasets.load_breast_cancer()\n",
    "X, y = bc.data, bc.target"
   ]
  },
  {
   "cell_type": "code",
   "execution_count": 4,
   "metadata": {},
   "outputs": [
    {
     "name": "stdout",
     "output_type": "stream",
     "text": [
      "input shape  (569, 30)\n",
      "label shape  (569,)\n",
      "n_samples  569\n",
      "n_features  30\n"
     ]
    }
   ],
   "source": [
    "print('input shape ',X.shape)\n",
    "print('label shape ',y.shape)\n",
    "n_samples = X.shape[0]\n",
    "n_features = X.shape[1]\n",
    "print('n_samples ', n_samples)\n",
    "print('n_features ', n_features)"
   ]
  },
  {
   "cell_type": "code",
   "execution_count": 5,
   "metadata": {},
   "outputs": [
    {
     "name": "stdout",
     "output_type": "stream",
     "text": [
      "input shape trn  (455, 30)\n",
      "input shape tst  (114, 30)\n"
     ]
    }
   ],
   "source": [
    "X_train, X_test, y_train, y_test = train_test_split(X, y, test_size=0.2, random_state=42)\n",
    "print('input shape trn ',X_train.shape)\n",
    "print('input shape tst ',X_test.shape)"
   ]
  },
  {
   "cell_type": "code",
   "execution_count": 6,
   "metadata": {},
   "outputs": [],
   "source": [
    "# apply scaling\n",
    "scaler = StandardScaler().fit(X_train)\n",
    "X_TRAIN = scaler.transform(X_train)\n",
    "X_TEST  = scaler.transform(X_test)"
   ]
  },
  {
   "cell_type": "code",
   "execution_count": 7,
   "metadata": {},
   "outputs": [
    {
     "name": "stdout",
     "output_type": "stream",
     "text": [
      "shape of train tensor  torch.Size([455, 30])\n",
      "shape of test tensor  torch.Size([114, 30])\n"
     ]
    }
   ],
   "source": [
    "#convert data to pytorch tensors\n",
    "#XX_train = torch.from_numpy(X_TRAIN, dtype=np.float32)\n",
    "XX_train = torch.from_numpy(X_TRAIN.astype(np.float32))\n",
    "XX_test  = torch.from_numpy(X_TEST.astype(np.float32))\n",
    "print('shape of train tensor ',XX_train.shape)\n",
    "print('shape of test tensor ',XX_test.shape)\n",
    "YY_train = torch.from_numpy(y_train.astype(np.float32))\n",
    "YY_test = torch.from_numpy(y_test.astype(np.float32))"
   ]
  },
  {
   "cell_type": "code",
   "execution_count": 8,
   "metadata": {},
   "outputs": [],
   "source": [
    "# in order to understand what input size and output size need to be for this case:\n",
    "# https://stackoverflow.com/questions/54916135/what-is-the-class-definition-of-nn-linear-in-pytorch\n",
    "# \n",
    "class BinaryClassification(nn.Module):\n",
    "    def __init__(self, input_size, output_size):\n",
    "        super().__init__()\n",
    "        self.linear = nn.Linear(input_size, output_size)\n",
    "    def forward(self, x):\n",
    "        y_pred = self.linear(x)\n",
    "        y_pred = torch.sigmoid(y_pred)\n",
    "        return y_pred\n",
    "        "
   ]
  },
  {
   "cell_type": "code",
   "execution_count": 9,
   "metadata": {},
   "outputs": [],
   "source": [
    "model = BinaryClassification(XX_train.shape[1], 1)\n",
    "loss = nn.MSELoss()\n",
    "optimizer = optim.Adam(model.parameters(), lr=0.001)\n",
    "epochs = 100000"
   ]
  },
  {
   "cell_type": "code",
   "execution_count": 10,
   "metadata": {},
   "outputs": [],
   "source": [
    "yy_train = YY_train.view(-1,1)\n",
    "yy_test  = YY_test.view(-1, 1)"
   ]
  },
  {
   "cell_type": "code",
   "execution_count": 11,
   "metadata": {},
   "outputs": [
    {
     "name": "stdout",
     "output_type": "stream",
     "text": [
      "epoch 0 loss 0.331028014421463\n",
      "epoch 10000 loss 0.006876879837363958\n",
      "epoch 20000 loss 0.0025529274716973305\n",
      "epoch 30000 loss 0.0022152799647301435\n",
      "epoch 40000 loss 0.0021987820509821177\n",
      "epoch 50000 loss 0.0021979310549795628\n",
      "epoch 60000 loss 0.0021978511940687895\n",
      "epoch 70000 loss 0.002197830704972148\n",
      "epoch 80000 loss 0.00219782255589962\n",
      "epoch 90000 loss 0.0021978176664561033\n"
     ]
    }
   ],
   "source": [
    "for i in range(epochs):\n",
    "    optimizer.zero_grad()\n",
    "    output = model(XX_train)\n",
    "    LOSS = loss(output, yy_train)\n",
    "#    print(LOSS)\n",
    "    LOSS.backward()\n",
    "    optimizer.step()\n",
    "    if i % 10000 == 0:\n",
    "        print('epoch', i, 'loss', LOSS.item())"
   ]
  },
  {
   "cell_type": "code",
   "execution_count": 12,
   "metadata": {},
   "outputs": [
    {
     "name": "stdout",
     "output_type": "stream",
     "text": [
      "1.0 1.0\n",
      "0.0 0.0\n",
      "0.0 0.0\n",
      "1.0 1.0\n",
      "1.0 1.0\n",
      "0.0 0.0\n",
      "0.0 0.0\n",
      "1.7295785418606282e-31 0.0\n",
      "0.9932057857513428 1.0\n",
      "1.0 1.0\n",
      "1.0 1.0\n",
      "3.909506575849516e-37 0.0\n",
      "1.0 1.0\n",
      "1.8312136808408115e-18 0.0\n",
      "1.0 1.0\n",
      "2.6416767455771666e-35 0.0\n",
      "1.0 1.0\n",
      "1.0 1.0\n",
      "1.0 1.0\n",
      "0.0 0.0\n"
     ]
    }
   ],
   "source": [
    "#test model\n",
    "y_hat = model(XX_test)\n",
    "for i in range(20):\n",
    "    print(y_hat[i].item(),yy_test[i].item()  )"
   ]
  },
  {
   "cell_type": "code",
   "execution_count": 23,
   "metadata": {},
   "outputs": [
    {
     "name": "stdout",
     "output_type": "stream",
     "text": [
      "tensor(0.9561)\n"
     ]
    }
   ],
   "source": [
    "# compute accuracy\n",
    "with torch.no_grad():\n",
    "    \n",
    "    a = y_hat.round()\n",
    "    A = (a == yy_test)\n",
    "    acc = A.sum() / float(YY_test.shape[0])\n",
    "    print(acc)\n"
   ]
  }
 ],
 "metadata": {
  "kernelspec": {
   "display_name": "Python 3",
   "language": "python",
   "name": "python3"
  },
  "language_info": {
   "codemirror_mode": {
    "name": "ipython",
    "version": 3
   },
   "file_extension": ".py",
   "mimetype": "text/x-python",
   "name": "python",
   "nbconvert_exporter": "python",
   "pygments_lexer": "ipython3",
   "version": "3.7.6"
  }
 },
 "nbformat": 4,
 "nbformat_minor": 4
}
