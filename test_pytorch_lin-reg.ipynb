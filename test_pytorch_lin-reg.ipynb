{
 "cells": [
  {
   "cell_type": "code",
   "execution_count": 1,
   "metadata": {},
   "outputs": [],
   "source": [
    "# joepareti54@gmail.com  April 25, 2022\n",
    "# \n",
    "# do a linear regression exercise using pytorch nn nn.Module \n",
    "# customize a class which contains the forward method\n",
    "# similar to the udacity exercise on MNIST at \n",
    "# finance-2022/AI/pytorch_youtube_april/tmp/*.pdf\n",
    "# \n",
    "#"
   ]
  },
  {
   "cell_type": "code",
   "execution_count": 2,
   "metadata": {},
   "outputs": [
    {
     "name": "stdout",
     "output_type": "stream",
     "text": [
      "tensor([0.4963, 0.7682, 0.0885, 0.1320, 0.3074])\n",
      "tensor([0.9925, 1.5364, 0.1770, 0.2641, 0.6148])\n",
      "tensor([[0.4963],\n",
      "        [0.7682],\n",
      "        [0.0885],\n",
      "        [0.1320],\n",
      "        [0.3074]])\n"
     ]
    }
   ],
   "source": [
    "import numpy as np\n",
    "import torch\n",
    "from torch import nn, optim\n",
    "torch.manual_seed(0)\n",
    "x = torch.rand(5, dtype=torch.float32)\n",
    "#\n",
    "print(x)\n",
    "y = 2*x\n",
    "print(y)\n",
    "# reshaping the arrays is needed to have one feature and as many samples as there are items in the array\n",
    "Y = torch.reshape(y, (-1, 1))\n",
    "X = torch.reshape(x, (-1, 1))\n",
    "input_size  = Y.shape[1]\n",
    "output_size = X.shape[1]\n",
    "print(X)"
   ]
  },
  {
   "cell_type": "code",
   "execution_count": 3,
   "metadata": {},
   "outputs": [
    {
     "name": "stdout",
     "output_type": "stream",
     "text": [
      "1 1\n"
     ]
    }
   ],
   "source": [
    "print(input_size, output_size)"
   ]
  },
  {
   "cell_type": "code",
   "execution_count": 4,
   "metadata": {},
   "outputs": [],
   "source": [
    "# in order to understand what input size and output size need to be for this case:\n",
    "# https://stackoverflow.com/questions/54916135/what-is-the-class-definition-of-nn-linear-in-pytorch\n",
    "# \n",
    "class LinearRegression(nn.Module):\n",
    "    def __init__(self, input_size, output_size):\n",
    "        super().__init__()\n",
    "        self.linear = nn.Linear(input_size, output_size)\n",
    "    def forward(self, x):\n",
    "        y_pred = self.linear(x)\n",
    "        return y_pred\n",
    "        "
   ]
  },
  {
   "cell_type": "code",
   "execution_count": 5,
   "metadata": {},
   "outputs": [],
   "source": [
    "alpha = 0.001\n",
    "epochs = 10000\n"
   ]
  },
  {
   "cell_type": "code",
   "execution_count": 6,
   "metadata": {},
   "outputs": [],
   "source": [
    "model = LinearRegression(input_size, output_size)\n",
    "loss = nn.MSELoss()\n",
    "optimizer = optim.Adam(model.parameters(), lr=alpha)\n",
    "#"
   ]
  },
  {
   "cell_type": "code",
   "execution_count": 7,
   "metadata": {},
   "outputs": [
    {
     "name": "stdout",
     "output_type": "stream",
     "text": [
      "epoch 0 loss 0.598578691482544\n",
      "epoch 1000 loss 0.07415773719549179\n",
      "epoch 2000 loss 0.029219919815659523\n",
      "epoch 3000 loss 0.006231018807739019\n",
      "epoch 4000 loss 0.000497701286803931\n",
      "epoch 5000 loss 7.459409061993938e-06\n",
      "epoch 6000 loss 6.500679550214272e-09\n",
      "epoch 7000 loss 3.099387500121731e-12\n",
      "epoch 8000 loss 1.0896173286562005e-12\n",
      "epoch 9000 loss 3.9102054927298013e-13\n"
     ]
    }
   ],
   "source": [
    "for i in range(epochs):\n",
    "    optimizer.zero_grad()\n",
    "    output = model(X)\n",
    "    LOSS = loss(output, Y)\n",
    "#    print(LOSS)\n",
    "    LOSS.backward()\n",
    "    optimizer.step()\n",
    "    if i % 1000 == 0:\n",
    "        print('epoch', i, 'loss', LOSS.item())"
   ]
  },
  {
   "cell_type": "code",
   "execution_count": 8,
   "metadata": {},
   "outputs": [
    {
     "name": "stdout",
     "output_type": "stream",
     "text": [
      "prediction tensor([[0.9925],\n",
      "        [1.5364],\n",
      "        [0.1770],\n",
      "        [0.2641],\n",
      "        [0.6148]], grad_fn=<AddmmBackward>)\n",
      "label tensor([[0.9925],\n",
      "        [1.5364],\n",
      "        [0.1770],\n",
      "        [0.2641],\n",
      "        [0.6148]])\n"
     ]
    }
   ],
   "source": [
    "print('prediction', model(X))\n",
    "print('label', Y)"
   ]
  }
 ],
 "metadata": {
  "kernelspec": {
   "display_name": "Python 3",
   "language": "python",
   "name": "python3"
  },
  "language_info": {
   "codemirror_mode": {
    "name": "ipython",
    "version": 3
   },
   "file_extension": ".py",
   "mimetype": "text/x-python",
   "name": "python",
   "nbconvert_exporter": "python",
   "pygments_lexer": "ipython3",
   "version": "3.7.6"
  }
 },
 "nbformat": 4,
 "nbformat_minor": 4
}
